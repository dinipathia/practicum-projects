{
 "cells": [
  {
   "cell_type": "markdown",
   "metadata": {},
   "source": [
    "# Marketing Platform Analysis for Optimization\n",
    "\n",
    "## Introduction\n",
    "\n",
    "This project consists of three different datasets, which are :\n",
    "\n",
    "1. Data of server log of users' visit to Y.Afisha website on June 2017 - May 2018\n",
    "2. Data of all purchase order on June 2017 - May 2018\n",
    "3. Data of daily marketing costs\n",
    "\n",
    "### Goals :\n",
    "\n",
    "This project aims to analyze each marketing platform used by Y.Afisha store for marketing optimization\n",
    "\n",
    "### Steps :\n",
    "1. Generate Information of Datasets\n",
    "2. Data Preprocessing\n",
    "3. Exploratory Data Analysis\n",
    "4. Calculate the Business Metrics"
   ]
  },
  {
   "cell_type": "markdown",
   "metadata": {},
   "source": [
    "## General Information & Data Preprocessing\n",
    "\n",
    "Import Python libraries."
   ]
  },
  {
   "cell_type": "code",
   "execution_count": 1,
   "metadata": {},
   "outputs": [],
   "source": [
    "import pandas as pd\n",
    "import matplotlib.pyplot as plt\n",
    "from scipy import stats as st\n",
    "import math as mt\n",
    "import math\n",
    "import numpy as np\n",
    "import seaborn as sns"
   ]
  },
  {
   "cell_type": "markdown",
   "metadata": {},
   "source": [
    "Read all three datasets."
   ]
  },
  {
   "cell_type": "code",
   "execution_count": 2,
   "metadata": {},
   "outputs": [],
   "source": [
    "try :\n",
    "    visits = pd.read_csv('visits_log_us.csv')\n",
    "    orders = pd.read_csv('orders_log_us.csv')\n",
    "    costs = pd.read_csv('costs_us.csv')\n",
    "\n",
    "except :\n",
    "    visits = pd.read_csv('/datasets/visits_log_us.csv')\n",
    "    orders = pd.read_csv('/datasets/orders_log_us.csv')\n",
    "    costs = pd.read_csv('/datasets/costs_us.csv')"
   ]
  },
  {
   "cell_type": "markdown",
   "metadata": {},
   "source": [
    "### Visits Table\n",
    "\n",
    "Checking general information of the first dataset, that consists of :\n",
    "- Uid : User ID\n",
    "- Device : user's device\n",
    "- Start Ts : date & time of session started\n",
    "- End Ts : date & time of session ended\n",
    "- Source Id : source ID of where user click the website from "
   ]
  },
  {
   "cell_type": "code",
   "execution_count": 3,
   "metadata": {},
   "outputs": [
    {
     "name": "stdout",
     "output_type": "stream",
     "text": [
      "<class 'pandas.core.frame.DataFrame'>\n",
      "RangeIndex: 359400 entries, 0 to 359399\n",
      "Data columns (total 5 columns):\n",
      " #   Column     Non-Null Count   Dtype \n",
      "---  ------     --------------   ----- \n",
      " 0   Device     359400 non-null  object\n",
      " 1   End Ts     359400 non-null  object\n",
      " 2   Source Id  359400 non-null  int64 \n",
      " 3   Start Ts   359400 non-null  object\n",
      " 4   Uid        359400 non-null  uint64\n",
      "dtypes: int64(1), object(3), uint64(1)\n",
      "memory usage: 13.7+ MB\n"
     ]
    },
    {
     "data": {
      "text/plain": [
       "(359400, 5)"
      ]
     },
     "execution_count": 3,
     "metadata": {},
     "output_type": "execute_result"
    }
   ],
   "source": [
    "visits.info()\n",
    "visits.shape"
   ]
  },
  {
   "cell_type": "code",
   "execution_count": 4,
   "metadata": {},
   "outputs": [
    {
     "data": {
      "text/html": [
       "<div>\n",
       "<style scoped>\n",
       "    .dataframe tbody tr th:only-of-type {\n",
       "        vertical-align: middle;\n",
       "    }\n",
       "\n",
       "    .dataframe tbody tr th {\n",
       "        vertical-align: top;\n",
       "    }\n",
       "\n",
       "    .dataframe thead th {\n",
       "        text-align: right;\n",
       "    }\n",
       "</style>\n",
       "<table border=\"1\" class=\"dataframe\">\n",
       "  <thead>\n",
       "    <tr style=\"text-align: right;\">\n",
       "      <th></th>\n",
       "      <th>Device</th>\n",
       "      <th>End Ts</th>\n",
       "      <th>Source Id</th>\n",
       "      <th>Start Ts</th>\n",
       "      <th>Uid</th>\n",
       "    </tr>\n",
       "  </thead>\n",
       "  <tbody>\n",
       "    <tr>\n",
       "      <th>0</th>\n",
       "      <td>touch</td>\n",
       "      <td>2017-12-20 17:38:00</td>\n",
       "      <td>4</td>\n",
       "      <td>2017-12-20 17:20:00</td>\n",
       "      <td>16879256277535980062</td>\n",
       "    </tr>\n",
       "    <tr>\n",
       "      <th>1</th>\n",
       "      <td>desktop</td>\n",
       "      <td>2018-02-19 17:21:00</td>\n",
       "      <td>2</td>\n",
       "      <td>2018-02-19 16:53:00</td>\n",
       "      <td>104060357244891740</td>\n",
       "    </tr>\n",
       "    <tr>\n",
       "      <th>2</th>\n",
       "      <td>touch</td>\n",
       "      <td>2017-07-01 01:54:00</td>\n",
       "      <td>5</td>\n",
       "      <td>2017-07-01 01:54:00</td>\n",
       "      <td>7459035603376831527</td>\n",
       "    </tr>\n",
       "    <tr>\n",
       "      <th>3</th>\n",
       "      <td>desktop</td>\n",
       "      <td>2018-05-20 11:23:00</td>\n",
       "      <td>9</td>\n",
       "      <td>2018-05-20 10:59:00</td>\n",
       "      <td>16174680259334210214</td>\n",
       "    </tr>\n",
       "    <tr>\n",
       "      <th>4</th>\n",
       "      <td>desktop</td>\n",
       "      <td>2017-12-27 14:06:00</td>\n",
       "      <td>3</td>\n",
       "      <td>2017-12-27 14:06:00</td>\n",
       "      <td>9969694820036681168</td>\n",
       "    </tr>\n",
       "  </tbody>\n",
       "</table>\n",
       "</div>"
      ],
      "text/plain": [
       "    Device               End Ts  Source Id             Start Ts  \\\n",
       "0    touch  2017-12-20 17:38:00          4  2017-12-20 17:20:00   \n",
       "1  desktop  2018-02-19 17:21:00          2  2018-02-19 16:53:00   \n",
       "2    touch  2017-07-01 01:54:00          5  2017-07-01 01:54:00   \n",
       "3  desktop  2018-05-20 11:23:00          9  2018-05-20 10:59:00   \n",
       "4  desktop  2017-12-27 14:06:00          3  2017-12-27 14:06:00   \n",
       "\n",
       "                    Uid  \n",
       "0  16879256277535980062  \n",
       "1    104060357244891740  \n",
       "2   7459035603376831527  \n",
       "3  16174680259334210214  \n",
       "4   9969694820036681168  "
      ]
     },
     "execution_count": 4,
     "metadata": {},
     "output_type": "execute_result"
    }
   ],
   "source": [
    "visits.head()"
   ]
  },
  {
   "cell_type": "code",
   "execution_count": 5,
   "metadata": {},
   "outputs": [
    {
     "data": {
      "text/html": [
       "<div>\n",
       "<style scoped>\n",
       "    .dataframe tbody tr th:only-of-type {\n",
       "        vertical-align: middle;\n",
       "    }\n",
       "\n",
       "    .dataframe tbody tr th {\n",
       "        vertical-align: top;\n",
       "    }\n",
       "\n",
       "    .dataframe thead th {\n",
       "        text-align: right;\n",
       "    }\n",
       "</style>\n",
       "<table border=\"1\" class=\"dataframe\">\n",
       "  <thead>\n",
       "    <tr style=\"text-align: right;\">\n",
       "      <th></th>\n",
       "      <th>Source Id</th>\n",
       "      <th>Uid</th>\n",
       "    </tr>\n",
       "  </thead>\n",
       "  <tbody>\n",
       "    <tr>\n",
       "      <th>count</th>\n",
       "      <td>359400.000000</td>\n",
       "      <td>3.594000e+05</td>\n",
       "    </tr>\n",
       "    <tr>\n",
       "      <th>mean</th>\n",
       "      <td>3.750515</td>\n",
       "      <td>9.202557e+18</td>\n",
       "    </tr>\n",
       "    <tr>\n",
       "      <th>std</th>\n",
       "      <td>1.917116</td>\n",
       "      <td>5.298433e+18</td>\n",
       "    </tr>\n",
       "    <tr>\n",
       "      <th>min</th>\n",
       "      <td>1.000000</td>\n",
       "      <td>1.186350e+13</td>\n",
       "    </tr>\n",
       "    <tr>\n",
       "      <th>25%</th>\n",
       "      <td>3.000000</td>\n",
       "      <td>4.613407e+18</td>\n",
       "    </tr>\n",
       "    <tr>\n",
       "      <th>50%</th>\n",
       "      <td>4.000000</td>\n",
       "      <td>9.227413e+18</td>\n",
       "    </tr>\n",
       "    <tr>\n",
       "      <th>75%</th>\n",
       "      <td>5.000000</td>\n",
       "      <td>1.372824e+19</td>\n",
       "    </tr>\n",
       "    <tr>\n",
       "      <th>max</th>\n",
       "      <td>10.000000</td>\n",
       "      <td>1.844668e+19</td>\n",
       "    </tr>\n",
       "  </tbody>\n",
       "</table>\n",
       "</div>"
      ],
      "text/plain": [
       "           Source Id           Uid\n",
       "count  359400.000000  3.594000e+05\n",
       "mean        3.750515  9.202557e+18\n",
       "std         1.917116  5.298433e+18\n",
       "min         1.000000  1.186350e+13\n",
       "25%         3.000000  4.613407e+18\n",
       "50%         4.000000  9.227413e+18\n",
       "75%         5.000000  1.372824e+19\n",
       "max        10.000000  1.844668e+19"
      ]
     },
     "execution_count": 5,
     "metadata": {},
     "output_type": "execute_result"
    }
   ],
   "source": [
    "visits.describe()"
   ]
  },
  {
   "cell_type": "markdown",
   "metadata": {},
   "source": [
    "Checking dataset to look for any duplicate or missing values."
   ]
  },
  {
   "cell_type": "code",
   "execution_count": 6,
   "metadata": {},
   "outputs": [
    {
     "data": {
      "text/plain": [
       "Device       0\n",
       "End Ts       0\n",
       "Source Id    0\n",
       "Start Ts     0\n",
       "Uid          0\n",
       "dtype: int64"
      ]
     },
     "execution_count": 6,
     "metadata": {},
     "output_type": "execute_result"
    }
   ],
   "source": [
    "visits.isna().sum() #checking missing values in visit table data"
   ]
  },
  {
   "cell_type": "code",
   "execution_count": 7,
   "metadata": {
    "scrolled": true
   },
   "outputs": [
    {
     "data": {
      "text/plain": [
       "0"
      ]
     },
     "execution_count": 7,
     "metadata": {},
     "output_type": "execute_result"
    }
   ],
   "source": [
    "visits.duplicated().sum() #checking duplicate in visit table data"
   ]
  },
  {
   "cell_type": "markdown",
   "metadata": {},
   "source": [
    "There are no found any duplicate or missing values on dataset. However, date and time columns are in incorrect data type, thus, data type of column `End Ts`, and `Start Ts` need to be fixed. In addition, for optimising memory data usage, data type for column `Device` will be transformed to category type."
   ]
  },
  {
   "cell_type": "code",
   "execution_count": 8,
   "metadata": {},
   "outputs": [
    {
     "name": "stdout",
     "output_type": "stream",
     "text": [
      "<class 'pandas.core.frame.DataFrame'>\n",
      "RangeIndex: 359400 entries, 0 to 359399\n",
      "Data columns (total 5 columns):\n",
      " #   Column     Non-Null Count   Dtype         \n",
      "---  ------     --------------   -----         \n",
      " 0   Device     359400 non-null  category      \n",
      " 1   End Ts     359400 non-null  datetime64[ns]\n",
      " 2   Source Id  359400 non-null  int64         \n",
      " 3   Start Ts   359400 non-null  datetime64[ns]\n",
      " 4   Uid        359400 non-null  uint64        \n",
      "dtypes: category(1), datetime64[ns](2), int64(1), uint64(1)\n",
      "memory usage: 11.3 MB\n"
     ]
    }
   ],
   "source": [
    "#fixing data type for column 'End Ts'\n",
    "visits['End Ts'] = pd.to_datetime(visits['End Ts'], format='%Y-%m-%d %H:%M:%S')\n",
    "\n",
    "#fixing data type for column 'Start Ts'\n",
    "visits['Start Ts'] = pd.to_datetime(visits['Start Ts'], format='%Y-%m-%d %H:%M:%S')\n",
    "\n",
    "#transform data type for column 'Device' to be category type\n",
    "visits['Device'] = visits['Device'].astype('category') \n",
    "\n",
    "#checking general information of data after fixing\n",
    "visits.info()"
   ]
  },
  {
   "cell_type": "markdown",
   "metadata": {},
   "source": [
    "### Orders Table\n",
    "\n",
    "Checking general information of second dataset consist of :\n",
    "- Uid : User ID who make the order\n",
    "- Buy Ts : date & time of the order\n",
    "- Revenue : revenue Y.Afisha of each order"
   ]
  },
  {
   "cell_type": "code",
   "execution_count": 9,
   "metadata": {},
   "outputs": [
    {
     "name": "stdout",
     "output_type": "stream",
     "text": [
      "<class 'pandas.core.frame.DataFrame'>\n",
      "RangeIndex: 50415 entries, 0 to 50414\n",
      "Data columns (total 3 columns):\n",
      " #   Column   Non-Null Count  Dtype  \n",
      "---  ------   --------------  -----  \n",
      " 0   Buy Ts   50415 non-null  object \n",
      " 1   Revenue  50415 non-null  float64\n",
      " 2   Uid      50415 non-null  uint64 \n",
      "dtypes: float64(1), object(1), uint64(1)\n",
      "memory usage: 1.2+ MB\n"
     ]
    },
    {
     "data": {
      "text/plain": [
       "(50415, 3)"
      ]
     },
     "execution_count": 9,
     "metadata": {},
     "output_type": "execute_result"
    }
   ],
   "source": [
    "orders.info()\n",
    "orders.shape"
   ]
  },
  {
   "cell_type": "code",
   "execution_count": 10,
   "metadata": {},
   "outputs": [
    {
     "data": {
      "text/html": [
       "<div>\n",
       "<style scoped>\n",
       "    .dataframe tbody tr th:only-of-type {\n",
       "        vertical-align: middle;\n",
       "    }\n",
       "\n",
       "    .dataframe tbody tr th {\n",
       "        vertical-align: top;\n",
       "    }\n",
       "\n",
       "    .dataframe thead th {\n",
       "        text-align: right;\n",
       "    }\n",
       "</style>\n",
       "<table border=\"1\" class=\"dataframe\">\n",
       "  <thead>\n",
       "    <tr style=\"text-align: right;\">\n",
       "      <th></th>\n",
       "      <th>Buy Ts</th>\n",
       "      <th>Revenue</th>\n",
       "      <th>Uid</th>\n",
       "    </tr>\n",
       "  </thead>\n",
       "  <tbody>\n",
       "    <tr>\n",
       "      <th>0</th>\n",
       "      <td>2017-06-01 00:10:00</td>\n",
       "      <td>17.00</td>\n",
       "      <td>10329302124590727494</td>\n",
       "    </tr>\n",
       "    <tr>\n",
       "      <th>1</th>\n",
       "      <td>2017-06-01 00:25:00</td>\n",
       "      <td>0.55</td>\n",
       "      <td>11627257723692907447</td>\n",
       "    </tr>\n",
       "    <tr>\n",
       "      <th>2</th>\n",
       "      <td>2017-06-01 00:27:00</td>\n",
       "      <td>0.37</td>\n",
       "      <td>17903680561304213844</td>\n",
       "    </tr>\n",
       "    <tr>\n",
       "      <th>3</th>\n",
       "      <td>2017-06-01 00:29:00</td>\n",
       "      <td>0.55</td>\n",
       "      <td>16109239769442553005</td>\n",
       "    </tr>\n",
       "    <tr>\n",
       "      <th>4</th>\n",
       "      <td>2017-06-01 07:58:00</td>\n",
       "      <td>0.37</td>\n",
       "      <td>14200605875248379450</td>\n",
       "    </tr>\n",
       "  </tbody>\n",
       "</table>\n",
       "</div>"
      ],
      "text/plain": [
       "                Buy Ts  Revenue                   Uid\n",
       "0  2017-06-01 00:10:00    17.00  10329302124590727494\n",
       "1  2017-06-01 00:25:00     0.55  11627257723692907447\n",
       "2  2017-06-01 00:27:00     0.37  17903680561304213844\n",
       "3  2017-06-01 00:29:00     0.55  16109239769442553005\n",
       "4  2017-06-01 07:58:00     0.37  14200605875248379450"
      ]
     },
     "execution_count": 10,
     "metadata": {},
     "output_type": "execute_result"
    }
   ],
   "source": [
    "orders.head()"
   ]
  },
  {
   "cell_type": "code",
   "execution_count": 11,
   "metadata": {},
   "outputs": [
    {
     "data": {
      "text/html": [
       "<div>\n",
       "<style scoped>\n",
       "    .dataframe tbody tr th:only-of-type {\n",
       "        vertical-align: middle;\n",
       "    }\n",
       "\n",
       "    .dataframe tbody tr th {\n",
       "        vertical-align: top;\n",
       "    }\n",
       "\n",
       "    .dataframe thead th {\n",
       "        text-align: right;\n",
       "    }\n",
       "</style>\n",
       "<table border=\"1\" class=\"dataframe\">\n",
       "  <thead>\n",
       "    <tr style=\"text-align: right;\">\n",
       "      <th></th>\n",
       "      <th>Revenue</th>\n",
       "      <th>Uid</th>\n",
       "    </tr>\n",
       "  </thead>\n",
       "  <tbody>\n",
       "    <tr>\n",
       "      <th>count</th>\n",
       "      <td>50415.000000</td>\n",
       "      <td>5.041500e+04</td>\n",
       "    </tr>\n",
       "    <tr>\n",
       "      <th>mean</th>\n",
       "      <td>4.999647</td>\n",
       "      <td>9.098161e+18</td>\n",
       "    </tr>\n",
       "    <tr>\n",
       "      <th>std</th>\n",
       "      <td>21.818359</td>\n",
       "      <td>5.285742e+18</td>\n",
       "    </tr>\n",
       "    <tr>\n",
       "      <th>min</th>\n",
       "      <td>0.000000</td>\n",
       "      <td>3.135781e+14</td>\n",
       "    </tr>\n",
       "    <tr>\n",
       "      <th>25%</th>\n",
       "      <td>1.220000</td>\n",
       "      <td>4.533567e+18</td>\n",
       "    </tr>\n",
       "    <tr>\n",
       "      <th>50%</th>\n",
       "      <td>2.500000</td>\n",
       "      <td>9.102274e+18</td>\n",
       "    </tr>\n",
       "    <tr>\n",
       "      <th>75%</th>\n",
       "      <td>4.890000</td>\n",
       "      <td>1.368290e+19</td>\n",
       "    </tr>\n",
       "    <tr>\n",
       "      <th>max</th>\n",
       "      <td>2633.280000</td>\n",
       "      <td>1.844617e+19</td>\n",
       "    </tr>\n",
       "  </tbody>\n",
       "</table>\n",
       "</div>"
      ],
      "text/plain": [
       "            Revenue           Uid\n",
       "count  50415.000000  5.041500e+04\n",
       "mean       4.999647  9.098161e+18\n",
       "std       21.818359  5.285742e+18\n",
       "min        0.000000  3.135781e+14\n",
       "25%        1.220000  4.533567e+18\n",
       "50%        2.500000  9.102274e+18\n",
       "75%        4.890000  1.368290e+19\n",
       "max     2633.280000  1.844617e+19"
      ]
     },
     "execution_count": 11,
     "metadata": {},
     "output_type": "execute_result"
    }
   ],
   "source": [
    "orders.describe()"
   ]
  },
  {
   "cell_type": "markdown",
   "metadata": {},
   "source": [
    "On detail above, it is shown that the minimum revenue, made by one of the orders, is `$ 0.00`, and the maximum revenue is `$ 2633.28`. In this table, `$ 0.00` revenue convey that there are some users that do not make the order until payment, or do only window shopping. In order to have relevant dataset, revenue table need to be filtered on the stage of analyzing.\n",
    "\n",
    "Checking dataset to look for any duplicate or missing values."
   ]
  },
  {
   "cell_type": "code",
   "execution_count": 12,
   "metadata": {},
   "outputs": [
    {
     "data": {
      "text/plain": [
       "Buy Ts     0\n",
       "Revenue    0\n",
       "Uid        0\n",
       "dtype: int64"
      ]
     },
     "execution_count": 12,
     "metadata": {},
     "output_type": "execute_result"
    }
   ],
   "source": [
    "orders.isna().sum() #checking missing values on order table data"
   ]
  },
  {
   "cell_type": "code",
   "execution_count": 13,
   "metadata": {},
   "outputs": [
    {
     "data": {
      "text/plain": [
       "0"
      ]
     },
     "execution_count": 13,
     "metadata": {},
     "output_type": "execute_result"
    }
   ],
   "source": [
    "orders.duplicated().sum() #checking duplicate on order table data"
   ]
  },
  {
   "cell_type": "markdown",
   "metadata": {},
   "source": [
    "There are no found any duplicate or missing values on dataset. However, `Buy Ts` column is in incorrect data type, thus, need to be fixed."
   ]
  },
  {
   "cell_type": "code",
   "execution_count": 14,
   "metadata": {},
   "outputs": [
    {
     "name": "stdout",
     "output_type": "stream",
     "text": [
      "<class 'pandas.core.frame.DataFrame'>\n",
      "RangeIndex: 50415 entries, 0 to 50414\n",
      "Data columns (total 3 columns):\n",
      " #   Column   Non-Null Count  Dtype         \n",
      "---  ------   --------------  -----         \n",
      " 0   Buy Ts   50415 non-null  datetime64[ns]\n",
      " 1   Revenue  50415 non-null  float64       \n",
      " 2   Uid      50415 non-null  uint64        \n",
      "dtypes: datetime64[ns](1), float64(1), uint64(1)\n",
      "memory usage: 1.2 MB\n"
     ]
    }
   ],
   "source": [
    "orders['Buy Ts'] = pd.to_datetime(orders['Buy Ts'], format='%Y-%m-%d %H:%M:%S')\n",
    "\n",
    "orders.info()"
   ]
  },
  {
   "cell_type": "markdown",
   "metadata": {},
   "source": [
    "### Costs Table\n",
    "\n",
    "Checking general information of dataset, consist of :\n",
    "- source_id : source ID of where the advertisement from\n",
    "- dt : date of advertizing\n",
    "- costs : cost of each advertisement on each date"
   ]
  },
  {
   "cell_type": "code",
   "execution_count": 15,
   "metadata": {},
   "outputs": [
    {
     "name": "stdout",
     "output_type": "stream",
     "text": [
      "<class 'pandas.core.frame.DataFrame'>\n",
      "RangeIndex: 2542 entries, 0 to 2541\n",
      "Data columns (total 3 columns):\n",
      " #   Column     Non-Null Count  Dtype  \n",
      "---  ------     --------------  -----  \n",
      " 0   source_id  2542 non-null   int64  \n",
      " 1   dt         2542 non-null   object \n",
      " 2   costs      2542 non-null   float64\n",
      "dtypes: float64(1), int64(1), object(1)\n",
      "memory usage: 59.7+ KB\n"
     ]
    },
    {
     "data": {
      "text/plain": [
       "(2542, 3)"
      ]
     },
     "execution_count": 15,
     "metadata": {},
     "output_type": "execute_result"
    }
   ],
   "source": [
    "costs.info()\n",
    "costs.shape"
   ]
  },
  {
   "cell_type": "code",
   "execution_count": 16,
   "metadata": {},
   "outputs": [
    {
     "data": {
      "text/html": [
       "<div>\n",
       "<style scoped>\n",
       "    .dataframe tbody tr th:only-of-type {\n",
       "        vertical-align: middle;\n",
       "    }\n",
       "\n",
       "    .dataframe tbody tr th {\n",
       "        vertical-align: top;\n",
       "    }\n",
       "\n",
       "    .dataframe thead th {\n",
       "        text-align: right;\n",
       "    }\n",
       "</style>\n",
       "<table border=\"1\" class=\"dataframe\">\n",
       "  <thead>\n",
       "    <tr style=\"text-align: right;\">\n",
       "      <th></th>\n",
       "      <th>source_id</th>\n",
       "      <th>dt</th>\n",
       "      <th>costs</th>\n",
       "    </tr>\n",
       "  </thead>\n",
       "  <tbody>\n",
       "    <tr>\n",
       "      <th>0</th>\n",
       "      <td>1</td>\n",
       "      <td>2017-06-01</td>\n",
       "      <td>75.20</td>\n",
       "    </tr>\n",
       "    <tr>\n",
       "      <th>1</th>\n",
       "      <td>1</td>\n",
       "      <td>2017-06-02</td>\n",
       "      <td>62.25</td>\n",
       "    </tr>\n",
       "    <tr>\n",
       "      <th>2</th>\n",
       "      <td>1</td>\n",
       "      <td>2017-06-03</td>\n",
       "      <td>36.53</td>\n",
       "    </tr>\n",
       "    <tr>\n",
       "      <th>3</th>\n",
       "      <td>1</td>\n",
       "      <td>2017-06-04</td>\n",
       "      <td>55.00</td>\n",
       "    </tr>\n",
       "    <tr>\n",
       "      <th>4</th>\n",
       "      <td>1</td>\n",
       "      <td>2017-06-05</td>\n",
       "      <td>57.08</td>\n",
       "    </tr>\n",
       "  </tbody>\n",
       "</table>\n",
       "</div>"
      ],
      "text/plain": [
       "   source_id          dt  costs\n",
       "0          1  2017-06-01  75.20\n",
       "1          1  2017-06-02  62.25\n",
       "2          1  2017-06-03  36.53\n",
       "3          1  2017-06-04  55.00\n",
       "4          1  2017-06-05  57.08"
      ]
     },
     "execution_count": 16,
     "metadata": {},
     "output_type": "execute_result"
    }
   ],
   "source": [
    "costs.head()"
   ]
  },
  {
   "cell_type": "code",
   "execution_count": 17,
   "metadata": {},
   "outputs": [
    {
     "data": {
      "text/html": [
       "<div>\n",
       "<style scoped>\n",
       "    .dataframe tbody tr th:only-of-type {\n",
       "        vertical-align: middle;\n",
       "    }\n",
       "\n",
       "    .dataframe tbody tr th {\n",
       "        vertical-align: top;\n",
       "    }\n",
       "\n",
       "    .dataframe thead th {\n",
       "        text-align: right;\n",
       "    }\n",
       "</style>\n",
       "<table border=\"1\" class=\"dataframe\">\n",
       "  <thead>\n",
       "    <tr style=\"text-align: right;\">\n",
       "      <th></th>\n",
       "      <th>source_id</th>\n",
       "      <th>costs</th>\n",
       "    </tr>\n",
       "  </thead>\n",
       "  <tbody>\n",
       "    <tr>\n",
       "      <th>count</th>\n",
       "      <td>2542.000000</td>\n",
       "      <td>2542.000000</td>\n",
       "    </tr>\n",
       "    <tr>\n",
       "      <th>mean</th>\n",
       "      <td>4.857199</td>\n",
       "      <td>129.477427</td>\n",
       "    </tr>\n",
       "    <tr>\n",
       "      <th>std</th>\n",
       "      <td>3.181581</td>\n",
       "      <td>156.296628</td>\n",
       "    </tr>\n",
       "    <tr>\n",
       "      <th>min</th>\n",
       "      <td>1.000000</td>\n",
       "      <td>0.540000</td>\n",
       "    </tr>\n",
       "    <tr>\n",
       "      <th>25%</th>\n",
       "      <td>2.000000</td>\n",
       "      <td>21.945000</td>\n",
       "    </tr>\n",
       "    <tr>\n",
       "      <th>50%</th>\n",
       "      <td>4.000000</td>\n",
       "      <td>77.295000</td>\n",
       "    </tr>\n",
       "    <tr>\n",
       "      <th>75%</th>\n",
       "      <td>9.000000</td>\n",
       "      <td>170.065000</td>\n",
       "    </tr>\n",
       "    <tr>\n",
       "      <th>max</th>\n",
       "      <td>10.000000</td>\n",
       "      <td>1788.280000</td>\n",
       "    </tr>\n",
       "  </tbody>\n",
       "</table>\n",
       "</div>"
      ],
      "text/plain": [
       "         source_id        costs\n",
       "count  2542.000000  2542.000000\n",
       "mean      4.857199   129.477427\n",
       "std       3.181581   156.296628\n",
       "min       1.000000     0.540000\n",
       "25%       2.000000    21.945000\n",
       "50%       4.000000    77.295000\n",
       "75%       9.000000   170.065000\n",
       "max      10.000000  1788.280000"
      ]
     },
     "execution_count": 17,
     "metadata": {},
     "output_type": "execute_result"
    }
   ],
   "source": [
    "costs.describe()"
   ]
  },
  {
   "cell_type": "markdown",
   "metadata": {},
   "source": [
    "On detail above, it is shown that the minimum advertizing cost/day is `$0.54`, and the maximum one is `$1788.28`, with cost median `$77.29`. The variety total cost/day is caused by the variety of source id itself where the ad being advertised at.\n",
    "\n",
    "Checking dataset to look for any duplicate or missing values in the data."
   ]
  },
  {
   "cell_type": "code",
   "execution_count": 18,
   "metadata": {},
   "outputs": [
    {
     "data": {
      "text/plain": [
       "source_id    0\n",
       "dt           0\n",
       "costs        0\n",
       "dtype: int64"
      ]
     },
     "execution_count": 18,
     "metadata": {},
     "output_type": "execute_result"
    }
   ],
   "source": [
    "costs.isna().sum() #checking missing values on costs table data"
   ]
  },
  {
   "cell_type": "code",
   "execution_count": 19,
   "metadata": {},
   "outputs": [
    {
     "data": {
      "text/plain": [
       "0"
      ]
     },
     "execution_count": 19,
     "metadata": {},
     "output_type": "execute_result"
    }
   ],
   "source": [
    "costs.duplicated().sum() #checking duplicate on costs table data"
   ]
  },
  {
   "cell_type": "markdown",
   "metadata": {},
   "source": [
    "There are no found any duplicate or missing values on dataset. However, `dt` column is in incorrect data type, thus, need to be fixed."
   ]
  },
  {
   "cell_type": "code",
   "execution_count": 20,
   "metadata": {},
   "outputs": [
    {
     "name": "stdout",
     "output_type": "stream",
     "text": [
      "<class 'pandas.core.frame.DataFrame'>\n",
      "RangeIndex: 2542 entries, 0 to 2541\n",
      "Data columns (total 3 columns):\n",
      " #   Column     Non-Null Count  Dtype         \n",
      "---  ------     --------------  -----         \n",
      " 0   source_id  2542 non-null   int64         \n",
      " 1   dt         2542 non-null   datetime64[ns]\n",
      " 2   costs      2542 non-null   float64       \n",
      "dtypes: datetime64[ns](1), float64(1), int64(1)\n",
      "memory usage: 59.7 KB\n"
     ]
    }
   ],
   "source": [
    "costs['dt'] = pd.to_datetime(costs['dt'], format='%Y-%m-%d')\n",
    "\n",
    "costs.info()"
   ]
  },
  {
   "cell_type": "markdown",
   "metadata": {},
   "source": [
    "## Compiling and Analyzing the Data"
   ]
  },
  {
   "cell_type": "markdown",
   "metadata": {},
   "source": [
    "### Product Analyzing\n",
    "\n",
    "Checking how many users using the product on daily, weekly, and monthly basis.\n",
    "\n",
    "In order to have the data of user who buy the product, visits table and orders table need to be merged based on User ID."
   ]
  },
  {
   "cell_type": "code",
   "execution_count": 21,
   "metadata": {},
   "outputs": [
    {
     "data": {
      "text/html": [
       "<div>\n",
       "<style scoped>\n",
       "    .dataframe tbody tr th:only-of-type {\n",
       "        vertical-align: middle;\n",
       "    }\n",
       "\n",
       "    .dataframe tbody tr th {\n",
       "        vertical-align: top;\n",
       "    }\n",
       "\n",
       "    .dataframe thead th {\n",
       "        text-align: right;\n",
       "    }\n",
       "</style>\n",
       "<table border=\"1\" class=\"dataframe\">\n",
       "  <thead>\n",
       "    <tr style=\"text-align: right;\">\n",
       "      <th></th>\n",
       "      <th>Device</th>\n",
       "      <th>Source Id</th>\n",
       "      <th>Uid</th>\n",
       "      <th>Revenue</th>\n",
       "      <th>Start Ts</th>\n",
       "      <th>Buy Ts</th>\n",
       "      <th>End Ts</th>\n",
       "    </tr>\n",
       "  </thead>\n",
       "  <tbody>\n",
       "    <tr>\n",
       "      <th>0</th>\n",
       "      <td>desktop</td>\n",
       "      <td>9</td>\n",
       "      <td>16174680259334210214</td>\n",
       "      <td>2.33</td>\n",
       "      <td>2018-05-20 10:59:00</td>\n",
       "      <td>2018-03-09 20:25:00</td>\n",
       "      <td>2018-05-20 11:23:00</td>\n",
       "    </tr>\n",
       "    <tr>\n",
       "      <th>1</th>\n",
       "      <td>desktop</td>\n",
       "      <td>4</td>\n",
       "      <td>16174680259334210214</td>\n",
       "      <td>2.33</td>\n",
       "      <td>2018-03-09 20:05:00</td>\n",
       "      <td>2018-03-09 20:25:00</td>\n",
       "      <td>2018-03-09 20:33:00</td>\n",
       "    </tr>\n",
       "    <tr>\n",
       "      <th>2</th>\n",
       "      <td>desktop</td>\n",
       "      <td>5</td>\n",
       "      <td>16007536194108375387</td>\n",
       "      <td>2.44</td>\n",
       "      <td>2017-09-03 21:35:00</td>\n",
       "      <td>2017-09-04 12:46:00</td>\n",
       "      <td>2017-09-03 21:36:00</td>\n",
       "    </tr>\n",
       "    <tr>\n",
       "      <th>3</th>\n",
       "      <td>desktop</td>\n",
       "      <td>5</td>\n",
       "      <td>16007536194108375387</td>\n",
       "      <td>1.53</td>\n",
       "      <td>2017-09-03 21:35:00</td>\n",
       "      <td>2017-10-28 00:01:00</td>\n",
       "      <td>2017-09-03 21:36:00</td>\n",
       "    </tr>\n",
       "    <tr>\n",
       "      <th>4</th>\n",
       "      <td>desktop</td>\n",
       "      <td>5</td>\n",
       "      <td>16007536194108375387</td>\n",
       "      <td>1.53</td>\n",
       "      <td>2017-09-03 21:35:00</td>\n",
       "      <td>2017-10-28 19:16:00</td>\n",
       "      <td>2017-09-03 21:36:00</td>\n",
       "    </tr>\n",
       "    <tr>\n",
       "      <th>...</th>\n",
       "      <td>...</td>\n",
       "      <td>...</td>\n",
       "      <td>...</td>\n",
       "      <td>...</td>\n",
       "      <td>...</td>\n",
       "      <td>...</td>\n",
       "      <td>...</td>\n",
       "    </tr>\n",
       "    <tr>\n",
       "      <th>761802</th>\n",
       "      <td>desktop</td>\n",
       "      <td>3</td>\n",
       "      <td>6752020629696526518</td>\n",
       "      <td>4.15</td>\n",
       "      <td>2017-12-04 12:42:00</td>\n",
       "      <td>2017-12-04 12:46:00</td>\n",
       "      <td>2017-12-04 12:50:00</td>\n",
       "    </tr>\n",
       "    <tr>\n",
       "      <th>761803</th>\n",
       "      <td>desktop</td>\n",
       "      <td>4</td>\n",
       "      <td>11750532881998794555</td>\n",
       "      <td>3.67</td>\n",
       "      <td>2017-11-20 23:33:00</td>\n",
       "      <td>2017-11-20 23:43:00</td>\n",
       "      <td>2017-11-20 23:44:00</td>\n",
       "    </tr>\n",
       "    <tr>\n",
       "      <th>761804</th>\n",
       "      <td>touch</td>\n",
       "      <td>4</td>\n",
       "      <td>11202626539189016002</td>\n",
       "      <td>3.05</td>\n",
       "      <td>2017-11-29 20:27:00</td>\n",
       "      <td>2017-11-29 20:33:00</td>\n",
       "      <td>2017-11-29 20:48:00</td>\n",
       "    </tr>\n",
       "    <tr>\n",
       "      <th>761805</th>\n",
       "      <td>desktop</td>\n",
       "      <td>10</td>\n",
       "      <td>12734910664455613822</td>\n",
       "      <td>0.49</td>\n",
       "      <td>2018-04-23 21:11:00</td>\n",
       "      <td>2018-04-23 21:16:00</td>\n",
       "      <td>2018-04-23 21:19:00</td>\n",
       "    </tr>\n",
       "    <tr>\n",
       "      <th>761806</th>\n",
       "      <td>desktop</td>\n",
       "      <td>3</td>\n",
       "      <td>11102751930812818282</td>\n",
       "      <td>2.44</td>\n",
       "      <td>2017-07-31 12:13:00</td>\n",
       "      <td>2017-07-31 12:27:00</td>\n",
       "      <td>2017-07-31 12:31:00</td>\n",
       "    </tr>\n",
       "  </tbody>\n",
       "</table>\n",
       "<p>761807 rows × 7 columns</p>\n",
       "</div>"
      ],
      "text/plain": [
       "         Device  Source Id                   Uid  Revenue            Start Ts  \\\n",
       "0       desktop          9  16174680259334210214     2.33 2018-05-20 10:59:00   \n",
       "1       desktop          4  16174680259334210214     2.33 2018-03-09 20:05:00   \n",
       "2       desktop          5  16007536194108375387     2.44 2017-09-03 21:35:00   \n",
       "3       desktop          5  16007536194108375387     1.53 2017-09-03 21:35:00   \n",
       "4       desktop          5  16007536194108375387     1.53 2017-09-03 21:35:00   \n",
       "...         ...        ...                   ...      ...                 ...   \n",
       "761802  desktop          3   6752020629696526518     4.15 2017-12-04 12:42:00   \n",
       "761803  desktop          4  11750532881998794555     3.67 2017-11-20 23:33:00   \n",
       "761804    touch          4  11202626539189016002     3.05 2017-11-29 20:27:00   \n",
       "761805  desktop         10  12734910664455613822     0.49 2018-04-23 21:11:00   \n",
       "761806  desktop          3  11102751930812818282     2.44 2017-07-31 12:13:00   \n",
       "\n",
       "                    Buy Ts              End Ts  \n",
       "0      2018-03-09 20:25:00 2018-05-20 11:23:00  \n",
       "1      2018-03-09 20:25:00 2018-03-09 20:33:00  \n",
       "2      2017-09-04 12:46:00 2017-09-03 21:36:00  \n",
       "3      2017-10-28 00:01:00 2017-09-03 21:36:00  \n",
       "4      2017-10-28 19:16:00 2017-09-03 21:36:00  \n",
       "...                    ...                 ...  \n",
       "761802 2017-12-04 12:46:00 2017-12-04 12:50:00  \n",
       "761803 2017-11-20 23:43:00 2017-11-20 23:44:00  \n",
       "761804 2017-11-29 20:33:00 2017-11-29 20:48:00  \n",
       "761805 2018-04-23 21:16:00 2018-04-23 21:19:00  \n",
       "761806 2017-07-31 12:27:00 2017-07-31 12:31:00  \n",
       "\n",
       "[761807 rows x 7 columns]"
      ]
     },
     "execution_count": 21,
     "metadata": {},
     "output_type": "execute_result"
    }
   ],
   "source": [
    "df_merged = visits.merge(orders, \n",
    "                         on=['Uid'], \n",
    "                         how='inner'\n",
    "                        )[['Device', 'Source Id', 'Uid', 'Revenue', 'Start Ts', 'Buy Ts', 'End Ts']]\n",
    "df_merged"
   ]
  },
  {
   "cell_type": "markdown",
   "metadata": {},
   "source": [
    "As it is shown on table above, some date & time details on columns : `Start Ts`, `Buy Ts`, and `End Ts` are in incorrect order, whereas the time should be all in order time. For example, on index number 2 : session started at `21:35` and ended at `21:36`, yet the buying time is on different date of the sessions, instead of in between them.\n",
    "\n",
    "Therefore, dataset need to be filtered as sequence of time : `Buy Ts` is in between `Start Ts`, and `End Ts`."
   ]
  },
  {
   "cell_type": "code",
   "execution_count": 22,
   "metadata": {},
   "outputs": [
    {
     "data": {
      "text/html": [
       "<div>\n",
       "<style scoped>\n",
       "    .dataframe tbody tr th:only-of-type {\n",
       "        vertical-align: middle;\n",
       "    }\n",
       "\n",
       "    .dataframe tbody tr th {\n",
       "        vertical-align: top;\n",
       "    }\n",
       "\n",
       "    .dataframe thead th {\n",
       "        text-align: right;\n",
       "    }\n",
       "</style>\n",
       "<table border=\"1\" class=\"dataframe\">\n",
       "  <thead>\n",
       "    <tr style=\"text-align: right;\">\n",
       "      <th></th>\n",
       "      <th>index</th>\n",
       "      <th>Device</th>\n",
       "      <th>Source Id</th>\n",
       "      <th>Uid</th>\n",
       "      <th>Revenue</th>\n",
       "      <th>Start Ts</th>\n",
       "      <th>Buy Ts</th>\n",
       "      <th>End Ts</th>\n",
       "    </tr>\n",
       "  </thead>\n",
       "  <tbody>\n",
       "    <tr>\n",
       "      <th>0</th>\n",
       "      <td>1</td>\n",
       "      <td>desktop</td>\n",
       "      <td>4</td>\n",
       "      <td>16174680259334210214</td>\n",
       "      <td>2.33</td>\n",
       "      <td>2018-03-09 20:05:00</td>\n",
       "      <td>2018-03-09 20:25:00</td>\n",
       "      <td>2018-03-09 20:33:00</td>\n",
       "    </tr>\n",
       "    <tr>\n",
       "      <th>1</th>\n",
       "      <td>12</td>\n",
       "      <td>desktop</td>\n",
       "      <td>3</td>\n",
       "      <td>16007536194108375387</td>\n",
       "      <td>1.53</td>\n",
       "      <td>2017-10-27 23:56:00</td>\n",
       "      <td>2017-10-28 00:01:00</td>\n",
       "      <td>2017-10-28 00:04:00</td>\n",
       "    </tr>\n",
       "    <tr>\n",
       "      <th>2</th>\n",
       "      <td>29</td>\n",
       "      <td>desktop</td>\n",
       "      <td>3</td>\n",
       "      <td>16007536194108375387</td>\n",
       "      <td>2.44</td>\n",
       "      <td>2017-09-04 12:44:00</td>\n",
       "      <td>2017-09-04 12:46:00</td>\n",
       "      <td>2017-09-04 12:51:00</td>\n",
       "    </tr>\n",
       "    <tr>\n",
       "      <th>3</th>\n",
       "      <td>797</td>\n",
       "      <td>desktop</td>\n",
       "      <td>2</td>\n",
       "      <td>8056418121947262981</td>\n",
       "      <td>4.28</td>\n",
       "      <td>2017-10-28 14:29:00</td>\n",
       "      <td>2017-10-28 14:32:00</td>\n",
       "      <td>2017-10-28 14:37:00</td>\n",
       "    </tr>\n",
       "    <tr>\n",
       "      <th>4</th>\n",
       "      <td>1602</td>\n",
       "      <td>desktop</td>\n",
       "      <td>1</td>\n",
       "      <td>8056418121947262981</td>\n",
       "      <td>3.67</td>\n",
       "      <td>2017-06-26 08:13:00</td>\n",
       "      <td>2017-06-26 09:14:00</td>\n",
       "      <td>2017-06-26 09:16:00</td>\n",
       "    </tr>\n",
       "    <tr>\n",
       "      <th>...</th>\n",
       "      <td>...</td>\n",
       "      <td>...</td>\n",
       "      <td>...</td>\n",
       "      <td>...</td>\n",
       "      <td>...</td>\n",
       "      <td>...</td>\n",
       "      <td>...</td>\n",
       "      <td>...</td>\n",
       "    </tr>\n",
       "    <tr>\n",
       "      <th>29578</th>\n",
       "      <td>761802</td>\n",
       "      <td>desktop</td>\n",
       "      <td>3</td>\n",
       "      <td>6752020629696526518</td>\n",
       "      <td>4.15</td>\n",
       "      <td>2017-12-04 12:42:00</td>\n",
       "      <td>2017-12-04 12:46:00</td>\n",
       "      <td>2017-12-04 12:50:00</td>\n",
       "    </tr>\n",
       "    <tr>\n",
       "      <th>29579</th>\n",
       "      <td>761803</td>\n",
       "      <td>desktop</td>\n",
       "      <td>4</td>\n",
       "      <td>11750532881998794555</td>\n",
       "      <td>3.67</td>\n",
       "      <td>2017-11-20 23:33:00</td>\n",
       "      <td>2017-11-20 23:43:00</td>\n",
       "      <td>2017-11-20 23:44:00</td>\n",
       "    </tr>\n",
       "    <tr>\n",
       "      <th>29580</th>\n",
       "      <td>761804</td>\n",
       "      <td>touch</td>\n",
       "      <td>4</td>\n",
       "      <td>11202626539189016002</td>\n",
       "      <td>3.05</td>\n",
       "      <td>2017-11-29 20:27:00</td>\n",
       "      <td>2017-11-29 20:33:00</td>\n",
       "      <td>2017-11-29 20:48:00</td>\n",
       "    </tr>\n",
       "    <tr>\n",
       "      <th>29581</th>\n",
       "      <td>761805</td>\n",
       "      <td>desktop</td>\n",
       "      <td>10</td>\n",
       "      <td>12734910664455613822</td>\n",
       "      <td>0.49</td>\n",
       "      <td>2018-04-23 21:11:00</td>\n",
       "      <td>2018-04-23 21:16:00</td>\n",
       "      <td>2018-04-23 21:19:00</td>\n",
       "    </tr>\n",
       "    <tr>\n",
       "      <th>29582</th>\n",
       "      <td>761806</td>\n",
       "      <td>desktop</td>\n",
       "      <td>3</td>\n",
       "      <td>11102751930812818282</td>\n",
       "      <td>2.44</td>\n",
       "      <td>2017-07-31 12:13:00</td>\n",
       "      <td>2017-07-31 12:27:00</td>\n",
       "      <td>2017-07-31 12:31:00</td>\n",
       "    </tr>\n",
       "  </tbody>\n",
       "</table>\n",
       "<p>29583 rows × 8 columns</p>\n",
       "</div>"
      ],
      "text/plain": [
       "        index   Device  Source Id                   Uid  Revenue  \\\n",
       "0           1  desktop          4  16174680259334210214     2.33   \n",
       "1          12  desktop          3  16007536194108375387     1.53   \n",
       "2          29  desktop          3  16007536194108375387     2.44   \n",
       "3         797  desktop          2   8056418121947262981     4.28   \n",
       "4        1602  desktop          1   8056418121947262981     3.67   \n",
       "...       ...      ...        ...                   ...      ...   \n",
       "29578  761802  desktop          3   6752020629696526518     4.15   \n",
       "29579  761803  desktop          4  11750532881998794555     3.67   \n",
       "29580  761804    touch          4  11202626539189016002     3.05   \n",
       "29581  761805  desktop         10  12734910664455613822     0.49   \n",
       "29582  761806  desktop          3  11102751930812818282     2.44   \n",
       "\n",
       "                 Start Ts              Buy Ts              End Ts  \n",
       "0     2018-03-09 20:05:00 2018-03-09 20:25:00 2018-03-09 20:33:00  \n",
       "1     2017-10-27 23:56:00 2017-10-28 00:01:00 2017-10-28 00:04:00  \n",
       "2     2017-09-04 12:44:00 2017-09-04 12:46:00 2017-09-04 12:51:00  \n",
       "3     2017-10-28 14:29:00 2017-10-28 14:32:00 2017-10-28 14:37:00  \n",
       "4     2017-06-26 08:13:00 2017-06-26 09:14:00 2017-06-26 09:16:00  \n",
       "...                   ...                 ...                 ...  \n",
       "29578 2017-12-04 12:42:00 2017-12-04 12:46:00 2017-12-04 12:50:00  \n",
       "29579 2017-11-20 23:33:00 2017-11-20 23:43:00 2017-11-20 23:44:00  \n",
       "29580 2017-11-29 20:27:00 2017-11-29 20:33:00 2017-11-29 20:48:00  \n",
       "29581 2018-04-23 21:11:00 2018-04-23 21:16:00 2018-04-23 21:19:00  \n",
       "29582 2017-07-31 12:13:00 2017-07-31 12:27:00 2017-07-31 12:31:00  \n",
       "\n",
       "[29583 rows x 8 columns]"
      ]
     },
     "execution_count": 22,
     "metadata": {},
     "output_type": "execute_result"
    }
   ],
   "source": [
    "df_merged = df_merged[(df_merged['Buy Ts'] > df_merged['Start Ts']) & (df_merged['Buy Ts'] < df_merged['End Ts'])].reset_index()\n",
    "df_merged"
   ]
  },
  {
   "cell_type": "markdown",
   "metadata": {},
   "source": [
    "Checking order QTY of each Source ID based on filtered dataset."
   ]
  },
  {
   "cell_type": "code",
   "execution_count": 23,
   "metadata": {},
   "outputs": [
    {
     "data": {
      "text/plain": [
       "<AxesSubplot:title={'center':'Order QTY by Source ID'}, xlabel='Source Id', ylabel='Order Quantity'>"
      ]
     },
     "execution_count": 23,
     "metadata": {},
     "output_type": "execute_result"
    },
    {
     "data": {
      "image/png": "[encoded data removed]",
      "text/plain": [
       "<Figure size 432x288 with 1 Axes>"
      ]
     },
     "metadata": {
      "needs_background": "light"
     },
     "output_type": "display_data"
    }
   ],
   "source": [
    "source = df_merged.groupby('Source Id').agg({'Uid': ['nunique']}).sort_values(by=('Uid', 'nunique'), ascending=False)\n",
    "source.plot(kind='bar', alpha=0.5, grid=True, xlabel = 'Source Id', ylabel = 'Order Quantity', title = 'Order QTY by Source ID')"
   ]
  },
  {
   "cell_type": "markdown",
   "metadata": {},
   "source": [
    "As it is shown on graph above, Source ID number 10, 9, and 7 are the least sources of where the order from. Meanwhile the top two sources are number 4 and 3 that reach above 7000 and 6000 each. This findings need further analysis on the next stages.\n",
    "\n",
    "Checking daily purchase order by each `Uid`."
   ]
  },
  {
   "cell_type": "code",
   "execution_count": 24,
   "metadata": {},
   "outputs": [],
   "source": [
    "df_merged['date'] = df_merged['Buy Ts'].dt.date #adding column date to dataframe from `Buy Ts`"
   ]
  },
  {
   "cell_type": "code",
   "execution_count": 25,
   "metadata": {},
   "outputs": [
    {
     "data": {
      "text/plain": [
       "count    364.000000\n",
       "mean      79.200549\n",
       "std       43.056128\n",
       "min        1.000000\n",
       "25%       49.750000\n",
       "50%       76.000000\n",
       "75%      100.250000\n",
       "max      435.000000\n",
       "Name: Uid, dtype: float64"
      ]
     },
     "execution_count": 25,
     "metadata": {},
     "output_type": "execute_result"
    },
    {
     "data": {
      "image/png": "[encoded data removed]",
      "text/plain": [
       "<Figure size 432x288 with 1 Axes>"
      ]
     },
     "metadata": {
      "needs_background": "light"
     },
     "output_type": "display_data"
    }
   ],
   "source": [
    "df_merged.groupby('date')['Uid'].nunique().reset_index().hist(bins=35) #daily purchase order by each `Uid`\n",
    "plt.title('Daily Purchase Order by Uid')\n",
    "plt.xlabel('QTY Order')\n",
    "plt.ylabel('Frequency')\n",
    "\n",
    "df_merged.groupby('date')['Uid'].nunique().describe() #showing statistic description of daily purchase"
   ]
  },
  {
   "cell_type": "markdown",
   "metadata": {},
   "source": [
    "Data above conveys that there are approximately 76 order per day most of the time, with maximum total purchase order 435/day, and 1 order/day as the minimum.\n",
    "\n",
    "Checking weekly purchase order by each `Uid`."
   ]
  },
  {
   "cell_type": "code",
   "execution_count": 26,
   "metadata": {
    "scrolled": true
   },
   "outputs": [
    {
     "name": "stderr",
     "output_type": "stream",
     "text": [
      "/tmp/ipykernel_74/4053154680.py:1: FutureWarning: Series.dt.weekofyear and Series.dt.week have been deprecated.  Please use Series.dt.isocalendar().week instead.\n",
      "  df_merged['week'] = df_merged['Buy Ts'].dt.week #adding column week from `Buy Ts`\n"
     ]
    }
   ],
   "source": [
    "df_merged['week'] = df_merged['Buy Ts'].dt.week #adding column week from `Buy Ts`"
   ]
  },
  {
   "cell_type": "code",
   "execution_count": 27,
   "metadata": {},
   "outputs": [
    {
     "data": {
      "text/plain": [
       "count      52.000000\n",
       "mean      535.557692\n",
       "std       216.326135\n",
       "min       176.000000\n",
       "25%       369.750000\n",
       "50%       535.000000\n",
       "75%       673.000000\n",
       "max      1050.000000\n",
       "Name: Uid, dtype: float64"
      ]
     },
     "execution_count": 27,
     "metadata": {},
     "output_type": "execute_result"
    },
    {
     "data": {
      "image/png": "[encoded data removed]",
      "text/plain": [
       "<Figure size 432x288 with 1 Axes>"
      ]
     },
     "metadata": {
      "needs_background": "light"
     },
     "output_type": "display_data"
    }
   ],
   "source": [
    "df_merged.groupby('week')['Uid'].nunique().hist(bins=20) #weekly purchase order by each `Uid`\n",
    "plt.title('Weekly Purchase Order by Uid')\n",
    "plt.xlabel('QTY Order')\n",
    "plt.ylabel('Frequency')\n",
    "\n",
    "df_merged.groupby('week')['Uid'].nunique().describe() #showing statistic description of weekly purchase"
   ]
  },
  {
   "cell_type": "markdown",
   "metadata": {},
   "source": [
    "Data above conveys that there are mostly 535 order per week, with maximum total purchase order 1050/week, and 176 order/week as the minimum.\n",
    "\n",
    "Checking monthly purchase order by each `Uid`."
   ]
  },
  {
   "cell_type": "code",
   "execution_count": 28,
   "metadata": {},
   "outputs": [],
   "source": [
    "df_merged['month'] = df_merged['Buy Ts'].dt.month"
   ]
  },
  {
   "cell_type": "code",
   "execution_count": 30,
   "metadata": {},
   "outputs": [
    {
     "data": {
      "text/plain": [
       "count      12.000000\n",
       "mean     2245.166667\n",
       "std       765.580924\n",
       "min      1013.000000\n",
       "25%      1631.250000\n",
       "50%      2383.000000\n",
       "75%      2768.000000\n",
       "max      3322.000000\n",
       "Name: Uid, dtype: float64"
      ]
     },
     "execution_count": 30,
     "metadata": {},
     "output_type": "execute_result"
    },
    {
     "data": {
      "image/png": "[encoded data removed]",
      "text/plain": [
       "<Figure size 720x432 with 1 Axes>"
      ]
     },
     "metadata": {
      "needs_background": "light"
     },
     "output_type": "display_data"
    }
   ],
   "source": [
    "df_merged.groupby('month')['Uid'].nunique().plot(kind='line', grid=True, marker='o', markersize=4, figsize=(10, 6)) #monthly purchase order by each `Uid`\n",
    "plt.title('Monthly Purchase Order by Uid (June 2017 - May 2018)')\n",
    "plt.xlabel('Month')\n",
    "plt.ylabel('QTY Order')\n",
    "\n",
    "df_merged.groupby('month')['Uid'].nunique().describe() #showing statistic description of monthly purchase"
   ]
  },
  {
   "cell_type": "markdown",
   "metadata": {},
   "source": [
    "Data above conveys that there are mostly 2383 order per month, with maximum total purchase order 3322/month, and 1013 order/month as the minimum. Highest total amount purchase order is on October, November, and December 2017 that reach above 3000 purchase order per month. \n",
    "\n",
    "Checking number of session per day."
   ]
  },
  {
   "cell_type": "code",
   "execution_count": 31,
   "metadata": {},
   "outputs": [
    {
     "data": {
      "text/plain": [
       "count    364.000000\n",
       "mean      81.271978\n",
       "std       44.716926\n",
       "min        1.000000\n",
       "25%       49.750000\n",
       "50%       78.000000\n",
       "75%      103.000000\n",
       "max      462.000000\n",
       "Name: Uid, dtype: float64"
      ]
     },
     "execution_count": 31,
     "metadata": {},
     "output_type": "execute_result"
    },
    {
     "data": {
      "image/png": "[encoded data removed]",
      "text/plain": [
       "<Figure size 432x288 with 1 Axes>"
      ]
     },
     "metadata": {
      "needs_background": "light"
     },
     "output_type": "display_data"
    }
   ],
   "source": [
    "df_merged.groupby('date')['Uid'].count().reset_index().hist(bins=35) #daily total amount of session\n",
    "plt.title('Number of Session per Day')\n",
    "plt.xlabel('QTY Order')\n",
    "plt.ylabel('Frequency')\n",
    "\n",
    "df_merged.groupby('date')['Uid'].count().describe() #showing statistic description of daily total amount of session"
   ]
  },
  {
   "cell_type": "markdown",
   "metadata": {},
   "source": [
    "Data above conveys that there are mostly 78 session per day, with maximum total session 462/day, and 1 session/day as the minimum.\n",
    "\n",
    "Checking minutes duration per session."
   ]
  },
  {
   "cell_type": "code",
   "execution_count": 32,
   "metadata": {},
   "outputs": [],
   "source": [
    "df_merged['minutes_duration'] = (df_merged['End Ts'] - df_merged['Start Ts']).dt.total_seconds() / 60"
   ]
  },
  {
   "cell_type": "code",
   "execution_count": 33,
   "metadata": {},
   "outputs": [
    {
     "data": {
      "text/plain": [
       "count    29583.000000\n",
       "mean        22.708887\n",
       "std         23.499054\n",
       "min          2.000000\n",
       "25%          8.000000\n",
       "50%         16.000000\n",
       "75%         30.000000\n",
       "max        412.000000\n",
       "Name: minutes_duration, dtype: float64"
      ]
     },
     "execution_count": 33,
     "metadata": {},
     "output_type": "execute_result"
    },
    {
     "data": {
      "image/png": "[encoded data removed]",
      "text/plain": [
       "<Figure size 432x288 with 1 Axes>"
      ]
     },
     "metadata": {
      "needs_background": "light"
     },
     "output_type": "display_data"
    }
   ],
   "source": [
    "df_merged['minutes_duration'].hist(bins=35)\n",
    "plt.title('Duration Session in Minutes')\n",
    "plt.xlabel('Duration in Minutes')\n",
    "plt.ylabel('Frequency')\n",
    "\n",
    "df_merged['minutes_duration'].describe()"
   ]
  },
  {
   "cell_type": "markdown",
   "metadata": {},
   "source": [
    "Data above conveys that mostly user spend 16 minutes per session, with minimum duration 2 minutes/session, and the maximum duration is 412 minutes/session which can be considered as anomaly due to the few frequencies.\n",
    "\n",
    "Checking reorder frequencies by each user per month."
   ]
  },
  {
   "cell_type": "code",
   "execution_count": 34,
   "metadata": {},
   "outputs": [
    {
     "data": {
      "text/plain": [
       "count    25286.000000\n",
       "mean         0.097495\n",
       "std          0.137290\n",
       "min          0.083333\n",
       "25%          0.083333\n",
       "50%          0.083333\n",
       "75%          0.083333\n",
       "max          8.000000\n",
       "Name: Start Ts, dtype: float64"
      ]
     },
     "execution_count": 34,
     "metadata": {},
     "output_type": "execute_result"
    },
    {
     "data": {
      "image/png": "[encoded data removed]",
      "text/plain": [
       "<Figure size 432x288 with 1 Axes>"
      ]
     },
     "metadata": {
      "needs_background": "light"
     },
     "output_type": "display_data"
    }
   ],
   "source": [
    "monthly_reorder = df_merged.groupby(['Uid','month']).count().groupby('Uid')['Start Ts'].sum() / 12\n",
    "\n",
    "monthly_reorder.hist(bins=15, range=(0,1))\n",
    "plt.title('Average Reorder Frequency per Month')\n",
    "plt.xlabel('Reorder Average')\n",
    "plt.ylabel('Frequency')\n",
    "\n",
    "monthly_reorder.describe()"
   ]
  },
  {
   "cell_type": "markdown",
   "metadata": {},
   "source": [
    "The graph above showing total amount frequency of monthly reorder average done only once by each user within one year. It is shown that more than 20000 user make one order only in a year."
   ]
  },
  {
   "cell_type": "code",
   "execution_count": 35,
   "metadata": {},
   "outputs": [
    {
     "data": {
      "text/plain": [
       "Text(0, 0.5, 'Frequency')"
      ]
     },
     "execution_count": 35,
     "metadata": {},
     "output_type": "execute_result"
    },
    {
     "data": {
      "image/png": "[encoded data removed]",
      "text/plain": [
       "<Figure size 432x288 with 1 Axes>"
      ]
     },
     "metadata": {
      "needs_background": "light"
     },
     "output_type": "display_data"
    }
   ],
   "source": [
    "monthly_reorder.hist(bins=15, range=(1,8))\n",
    "plt.title('Average Reorder Frequency per Month')\n",
    "plt.xlabel('Reorder Average')\n",
    "plt.ylabel('Frequency')"
   ]
  },
  {
   "cell_type": "markdown",
   "metadata": {},
   "source": [
    "Meanwhile, the graph above showing total amount frequency of monthly reorder average done more than once by each user within one year. It is shown that there are only 20 users approximately that make at least one reorder per month."
   ]
  },
  {
   "cell_type": "markdown",
   "metadata": {},
   "source": [
    "### Product Selling Analysis\n",
    "\n",
    "Checking the time period of each user when making the first order after the first sign up (conversion rate).\n",
    "\n",
    "Filtering data of each user of their first purchase order."
   ]
  },
  {
   "cell_type": "code",
   "execution_count": 36,
   "metadata": {},
   "outputs": [],
   "source": [
    "df_tmp1 = orders[['Uid', 'Buy Ts', 'Revenue']].groupby('Uid').min().reset_index()"
   ]
  },
  {
   "cell_type": "markdown",
   "metadata": {},
   "source": [
    "Filtering data of each user of their first sign up."
   ]
  },
  {
   "cell_type": "code",
   "execution_count": 37,
   "metadata": {},
   "outputs": [],
   "source": [
    "df_tmp2 = visits[['Uid', 'Start Ts', 'Source Id']].groupby('Uid').min().reset_index()"
   ]
  },
  {
   "cell_type": "markdown",
   "metadata": {},
   "source": [
    "Merging both filtered data above."
   ]
  },
  {
   "cell_type": "code",
   "execution_count": 38,
   "metadata": {},
   "outputs": [],
   "source": [
    "df_conv = df_tmp1.merge(df_tmp2, on = 'Uid', how='inner')"
   ]
  },
  {
   "cell_type": "markdown",
   "metadata": {},
   "source": [
    "Make `conversion_days` column which is the period of time of each user in making the first order after the first sign up in days."
   ]
  },
  {
   "cell_type": "code",
   "execution_count": 39,
   "metadata": {},
   "outputs": [],
   "source": [
    "df_conv['conversion_days'] = (df_conv['Buy Ts'] - df_conv['Start Ts']).dt.days"
   ]
  },
  {
   "cell_type": "code",
   "execution_count": 40,
   "metadata": {},
   "outputs": [
    {
     "data": {
      "text/plain": [
       "0     26363\n",
       "1      1011\n",
       "2       563\n",
       "3       434\n",
       "4       324\n",
       "5       270\n",
       "6       260\n",
       "7       218\n",
       "8       189\n",
       "10      140\n",
       "Name: conversion_days, dtype: int64"
      ]
     },
     "execution_count": 40,
     "metadata": {},
     "output_type": "execute_result"
    },
    {
     "data": {
      "image/png": "[encoded data removed]",
      "text/plain": [
       "<Figure size 432x288 with 1 Axes>"
      ]
     },
     "metadata": {
      "needs_background": "light"
     },
     "output_type": "display_data"
    }
   ],
   "source": [
    "df_conv['conversion_days'].value_counts()[:10].sort_values(ascending=True).plot(kind='barh', \n",
    "                                                                                grid = True, \n",
    "                                                                                alpha= 0.5,\n",
    "                                                                               xlabel = 'Conversion Days Duration',\n",
    "                                                                                title = 'Conversion Amount Frequency')\n",
    "\n",
    "df_conv['conversion_days'].value_counts()[:10]"
   ]
  },
  {
   "cell_type": "markdown",
   "metadata": {},
   "source": [
    "Data above shows that there are 26363 users that make their first order on the same day of their first sign up, and there are more than 1000 users who make the first order on the next day of their first sign up. It is concluded that most of users make their first purchase order on the same day of their first sign up.\n",
    "\n",
    "Let's checking the most effective marketing channel that converting users to be buyers within one week."
   ]
  },
  {
   "cell_type": "code",
   "execution_count": 41,
   "metadata": {},
   "outputs": [
    {
     "data": {
      "text/plain": [
       "<AxesSubplot:title={'center':'Conversion within 1 Week by Source Id'}, xlabel='Source Id', ylabel='QTY'>"
      ]
     },
     "execution_count": 41,
     "metadata": {},
     "output_type": "execute_result"
    },
    {
     "data": {
      "image/png": "[encoded data removed]",
      "text/plain": [
       "<Figure size 432x288 with 1 Axes>"
      ]
     },
     "metadata": {
      "needs_background": "light"
     },
     "output_type": "display_data"
    }
   ],
   "source": [
    "oneweek_conv = df_conv[df_conv['conversion_days'] < 7] #filtering `conversion_days` below 7 days\n",
    "oneweek_conv.groupby('Source Id')['Uid'].count().sort_values(ascending = False).plot(kind='bar',\n",
    "                                                                                     title = 'Conversion within 1 Week by Source Id',\n",
    "                                                                                     ylabel = 'QTY')"
   ]
  },
  {
   "cell_type": "markdown",
   "metadata": {},
   "source": [
    "It is shown that marketing channel Id Number 3 has the highest conversion rate that almost 8000 users converted to be users under one week. Meanwhile, there is marketing channel Id Number 7 at the bottom position with the least conversion rate, under 250 users only approximately.\n",
    "\n",
    "Checking monthly purchase order quantity."
   ]
  },
  {
   "cell_type": "code",
   "execution_count": 42,
   "metadata": {},
   "outputs": [],
   "source": [
    "df_conv['month'] = df_conv['Buy Ts'].dt.month"
   ]
  },
  {
   "cell_type": "code",
   "execution_count": 43,
   "metadata": {},
   "outputs": [
    {
     "data": {
      "text/plain": [
       "count      12.000000\n",
       "mean     3043.583333\n",
       "std      1007.713926\n",
       "min      1370.000000\n",
       "25%      2213.000000\n",
       "50%      3180.500000\n",
       "75%      3758.500000\n",
       "max      4383.000000\n",
       "Name: Uid, dtype: float64"
      ]
     },
     "execution_count": 43,
     "metadata": {},
     "output_type": "execute_result"
    },
    {
     "data": {
      "image/png": "[encoded data removed]",
      "text/plain": [
       "<Figure size 720x432 with 1 Axes>"
      ]
     },
     "metadata": {
      "needs_background": "light"
     },
     "output_type": "display_data"
    }
   ],
   "source": [
    "df_conv.groupby('month')['Uid'].count().plot(kind='line', grid=True, marker='o', markersize=4, figsize=(10, 6)) #monthly purchase order\n",
    "plt.title('Monthly Purchase Order (June 2017 - May 2018)')\n",
    "plt.xlabel('Month')\n",
    "plt.ylabel('QTY Order')\n",
    "\n",
    "df_conv.groupby('month')['Uid'].count().describe() #showing statistic description of monthly purchase"
   ]
  },
  {
   "cell_type": "markdown",
   "metadata": {},
   "source": [
    "The graph shows that October - December 2017 make the highest purchase order that reach more than 4000 order quantity per month. Meanwhile the lowest order quantity is on August 2017 that only make 1370 order in a month. And average monthly order quantity is on 3180 purchase order.  \n",
    "\n",
    "Checking monthly lifetime value of each Source Id."
   ]
  },
  {
   "cell_type": "code",
   "execution_count": 44,
   "metadata": {},
   "outputs": [],
   "source": [
    "source_groups = df_conv.groupby(['Source Id', 'month']) #grouping data by month and Source Id"
   ]
  },
  {
   "cell_type": "code",
   "execution_count": 45,
   "metadata": {},
   "outputs": [],
   "source": [
    "revenue_per_source = source_groups['Revenue'].sum() #totaling revenue by each source ID"
   ]
  },
  {
   "cell_type": "code",
   "execution_count": 46,
   "metadata": {},
   "outputs": [],
   "source": [
    "customers_per_source = source_groups['Uid'].nunique() #calculating total of user by each source ID"
   ]
  },
  {
   "cell_type": "code",
   "execution_count": 47,
   "metadata": {},
   "outputs": [],
   "source": [
    "source_revenue_mean = revenue_per_source / customers_per_source #calculating average revenue by each source ID"
   ]
  },
  {
   "cell_type": "code",
   "execution_count": 48,
   "metadata": {},
   "outputs": [
    {
     "data": {
      "text/html": [
       "<div>\n",
       "<style scoped>\n",
       "    .dataframe tbody tr th:only-of-type {\n",
       "        vertical-align: middle;\n",
       "    }\n",
       "\n",
       "    .dataframe tbody tr th {\n",
       "        vertical-align: top;\n",
       "    }\n",
       "\n",
       "    .dataframe thead th {\n",
       "        text-align: right;\n",
       "    }\n",
       "</style>\n",
       "<table border=\"1\" class=\"dataframe\">\n",
       "  <thead>\n",
       "    <tr style=\"text-align: right;\">\n",
       "      <th></th>\n",
       "      <th>Source Id</th>\n",
       "      <th>month</th>\n",
       "      <th>0</th>\n",
       "    </tr>\n",
       "  </thead>\n",
       "  <tbody>\n",
       "    <tr>\n",
       "      <th>0</th>\n",
       "      <td>1</td>\n",
       "      <td>1</td>\n",
       "      <td>108.406137</td>\n",
       "    </tr>\n",
       "    <tr>\n",
       "      <th>1</th>\n",
       "      <td>1</td>\n",
       "      <td>2</td>\n",
       "      <td>101.872382</td>\n",
       "    </tr>\n",
       "    <tr>\n",
       "      <th>2</th>\n",
       "      <td>1</td>\n",
       "      <td>3</td>\n",
       "      <td>150.012330</td>\n",
       "    </tr>\n",
       "    <tr>\n",
       "      <th>3</th>\n",
       "      <td>1</td>\n",
       "      <td>4</td>\n",
       "      <td>163.274046</td>\n",
       "    </tr>\n",
       "    <tr>\n",
       "      <th>4</th>\n",
       "      <td>1</td>\n",
       "      <td>5</td>\n",
       "      <td>219.888722</td>\n",
       "    </tr>\n",
       "    <tr>\n",
       "      <th>...</th>\n",
       "      <td>...</td>\n",
       "      <td>...</td>\n",
       "      <td>...</td>\n",
       "    </tr>\n",
       "    <tr>\n",
       "      <th>80</th>\n",
       "      <td>10</td>\n",
       "      <td>8</td>\n",
       "      <td>0.076389</td>\n",
       "    </tr>\n",
       "    <tr>\n",
       "      <th>81</th>\n",
       "      <td>10</td>\n",
       "      <td>9</td>\n",
       "      <td>3.019104</td>\n",
       "    </tr>\n",
       "    <tr>\n",
       "      <th>82</th>\n",
       "      <td>10</td>\n",
       "      <td>10</td>\n",
       "      <td>4.676196</td>\n",
       "    </tr>\n",
       "    <tr>\n",
       "      <th>83</th>\n",
       "      <td>10</td>\n",
       "      <td>11</td>\n",
       "      <td>4.500877</td>\n",
       "    </tr>\n",
       "    <tr>\n",
       "      <th>84</th>\n",
       "      <td>10</td>\n",
       "      <td>12</td>\n",
       "      <td>28.825781</td>\n",
       "    </tr>\n",
       "  </tbody>\n",
       "</table>\n",
       "<p>85 rows × 3 columns</p>\n",
       "</div>"
      ],
      "text/plain": [
       "    Source Id  month           0\n",
       "0           1      1  108.406137\n",
       "1           1      2  101.872382\n",
       "2           1      3  150.012330\n",
       "3           1      4  163.274046\n",
       "4           1      5  219.888722\n",
       "..        ...    ...         ...\n",
       "80         10      8    0.076389\n",
       "81         10      9    3.019104\n",
       "82         10     10    4.676196\n",
       "83         10     11    4.500877\n",
       "84         10     12   28.825781\n",
       "\n",
       "[85 rows x 3 columns]"
      ]
     },
     "execution_count": 48,
     "metadata": {},
     "output_type": "execute_result"
    }
   ],
   "source": [
    "lifetime_per_source = source_groups['conversion_days'].mean() #calculating users' lifetime mean by each source ID\n",
    "ltv_per_source = source_revenue_mean * lifetime_per_source #calculating average montly LTV by each source ID\n",
    "ltv_per_source.reset_index()"
   ]
  },
  {
   "cell_type": "code",
   "execution_count": 49,
   "metadata": {},
   "outputs": [
    {
     "data": {
      "image/png": "[encoded data removed]",
      "text/plain": [
       "<Figure size 936x648 with 2 Axes>"
      ]
     },
     "metadata": {
      "needs_background": "light"
     },
     "output_type": "display_data"
    }
   ],
   "source": [
    "pivot_ltv = ltv_per_source.reset_index().pivot_table(index='Source Id', columns='month', values = 0)\n",
    "\n",
    "plt.figure(figsize=(13, 9))\n",
    "sns.heatmap(pivot_ltv, cmap='coolwarm', annot=True, fmt=\".2f\", cbar=True)\n",
    "plt.title('Heatmap of LTV by Source Id and Month')\n",
    "plt.xlabel('Month')\n",
    "plt.ylabel('Source Id')\n",
    "plt.show()"
   ]
  },
  {
   "cell_type": "markdown",
   "metadata": {},
   "source": [
    "It is shown that Source Id with highest LTV are Source Id number : 1, 2, and 9, meanwhile the lowest one is Source Id number 7, considering there are very few purchase order quantity on this channel. It is also concluded that LTV on January - May 2018 are higher than the one on June - December 2017."
   ]
  },
  {
   "cell_type": "markdown",
   "metadata": {},
   "source": [
    "### Marketing Analysis\n",
    "\n",
    "Checking monthly customer acquisition cost of each source id."
   ]
  },
  {
   "cell_type": "code",
   "execution_count": 50,
   "metadata": {},
   "outputs": [],
   "source": [
    "costs['month'] = costs['dt'].dt.month #adding column month to table `costs`"
   ]
  },
  {
   "cell_type": "markdown",
   "metadata": {},
   "source": [
    "Rename `source_id` column in table `costs` to match the one in table `df_conv` for calculating, to be `Source Id`."
   ]
  },
  {
   "cell_type": "code",
   "execution_count": 51,
   "metadata": {},
   "outputs": [],
   "source": [
    "costs = costs.rename(columns={'source_id' : 'Source Id'}) "
   ]
  },
  {
   "cell_type": "markdown",
   "metadata": {},
   "source": [
    "Calculate total monthly cost of each source id."
   ]
  },
  {
   "cell_type": "code",
   "execution_count": 52,
   "metadata": {},
   "outputs": [],
   "source": [
    "total_ad_costs = costs.groupby(['Source Id', 'month'])['costs'].sum()"
   ]
  },
  {
   "cell_type": "markdown",
   "metadata": {},
   "source": [
    "Divide total cost to total users, that has been calculated before based on table `df_conv`, to have acquisition cost per customer."
   ]
  },
  {
   "cell_type": "code",
   "execution_count": 53,
   "metadata": {},
   "outputs": [
    {
     "data": {
      "text/html": [
       "<div>\n",
       "<style scoped>\n",
       "    .dataframe tbody tr th:only-of-type {\n",
       "        vertical-align: middle;\n",
       "    }\n",
       "\n",
       "    .dataframe tbody tr th {\n",
       "        vertical-align: top;\n",
       "    }\n",
       "\n",
       "    .dataframe thead th {\n",
       "        text-align: right;\n",
       "    }\n",
       "</style>\n",
       "<table border=\"1\" class=\"dataframe\">\n",
       "  <thead>\n",
       "    <tr style=\"text-align: right;\">\n",
       "      <th></th>\n",
       "      <th>Source Id</th>\n",
       "      <th>month</th>\n",
       "      <th>0</th>\n",
       "    </tr>\n",
       "  </thead>\n",
       "  <tbody>\n",
       "    <tr>\n",
       "      <th>0</th>\n",
       "      <td>1</td>\n",
       "      <td>1</td>\n",
       "      <td>3.426614</td>\n",
       "    </tr>\n",
       "    <tr>\n",
       "      <th>1</th>\n",
       "      <td>1</td>\n",
       "      <td>2</td>\n",
       "      <td>3.412508</td>\n",
       "    </tr>\n",
       "    <tr>\n",
       "      <th>2</th>\n",
       "      <td>1</td>\n",
       "      <td>3</td>\n",
       "      <td>2.800429</td>\n",
       "    </tr>\n",
       "    <tr>\n",
       "      <th>3</th>\n",
       "      <td>1</td>\n",
       "      <td>4</td>\n",
       "      <td>3.395115</td>\n",
       "    </tr>\n",
       "    <tr>\n",
       "      <th>4</th>\n",
       "      <td>1</td>\n",
       "      <td>5</td>\n",
       "      <td>2.982947</td>\n",
       "    </tr>\n",
       "    <tr>\n",
       "      <th>...</th>\n",
       "      <td>...</td>\n",
       "      <td>...</td>\n",
       "      <td>...</td>\n",
       "    </tr>\n",
       "    <tr>\n",
       "      <th>80</th>\n",
       "      <td>10</td>\n",
       "      <td>8</td>\n",
       "      <td>10.111739</td>\n",
       "    </tr>\n",
       "    <tr>\n",
       "      <th>81</th>\n",
       "      <td>10</td>\n",
       "      <td>9</td>\n",
       "      <td>9.213400</td>\n",
       "    </tr>\n",
       "    <tr>\n",
       "      <th>82</th>\n",
       "      <td>10</td>\n",
       "      <td>10</td>\n",
       "      <td>4.480286</td>\n",
       "    </tr>\n",
       "    <tr>\n",
       "      <th>83</th>\n",
       "      <td>10</td>\n",
       "      <td>11</td>\n",
       "      <td>10.707568</td>\n",
       "    </tr>\n",
       "    <tr>\n",
       "      <th>84</th>\n",
       "      <td>10</td>\n",
       "      <td>12</td>\n",
       "      <td>12.186038</td>\n",
       "    </tr>\n",
       "  </tbody>\n",
       "</table>\n",
       "<p>85 rows × 3 columns</p>\n",
       "</div>"
      ],
      "text/plain": [
       "    Source Id  month          0\n",
       "0           1      1   3.426614\n",
       "1           1      2   3.412508\n",
       "2           1      3   2.800429\n",
       "3           1      4   3.395115\n",
       "4           1      5   2.982947\n",
       "..        ...    ...        ...\n",
       "80         10      8  10.111739\n",
       "81         10      9   9.213400\n",
       "82         10     10   4.480286\n",
       "83         10     11  10.707568\n",
       "84         10     12  12.186038\n",
       "\n",
       "[85 rows x 3 columns]"
      ]
     },
     "execution_count": 53,
     "metadata": {},
     "output_type": "execute_result"
    }
   ],
   "source": [
    "acquisition_cost = total_ad_costs / customers_per_source\n",
    "acquisition_cost.reset_index()"
   ]
  },
  {
   "cell_type": "code",
   "execution_count": 54,
   "metadata": {},
   "outputs": [
    {
     "data": {
      "image/png": "[encoded data removed]",
      "text/plain": [
       "<Figure size 936x648 with 2 Axes>"
      ]
     },
     "metadata": {
      "needs_background": "light"
     },
     "output_type": "display_data"
    }
   ],
   "source": [
    "pivot_acquisition = acquisition_cost.reset_index().pivot_table(index='Source Id', columns='month', values = 0)\n",
    "\n",
    "plt.figure(figsize=(13, 9))\n",
    "sns.heatmap(pivot_acquisition, cmap='coolwarm', annot=True, fmt=\".2f\", cbar=True)\n",
    "plt.title('Heatmap of Acquisition Costs by Source Id and Month')\n",
    "plt.xlabel('Month')\n",
    "plt.ylabel('Source Id')\n",
    "plt.show()"
   ]
  },
  {
   "cell_type": "markdown",
   "metadata": {},
   "source": [
    "It is shown on the graph above that source Id number 3 and 9 have the highest acquisition cost, and the one with the fewest acquisition cost is source Id number 1. Meanwhile, it is not to be seen there is any particular distinct total cost based on the period of time.\n",
    "\n",
    "Checking monthly return of investment of each source Id."
   ]
  },
  {
   "cell_type": "code",
   "execution_count": 55,
   "metadata": {},
   "outputs": [],
   "source": [
    "orders['month'] = orders['Buy Ts'].dt.month #adding column month to table orders"
   ]
  },
  {
   "cell_type": "markdown",
   "metadata": {},
   "source": [
    "Calculate total monthly revenue, and divide it to total costs to have total return of investment of each source id."
   ]
  },
  {
   "cell_type": "code",
   "execution_count": 56,
   "metadata": {},
   "outputs": [
    {
     "data": {
      "text/plain": [
       "Source Id  month\n",
       "1          1         7.881762\n",
       "           2        10.594816\n",
       "           3        14.231495\n",
       "           4        11.699199\n",
       "           5        13.129081\n",
       "                      ...    \n",
       "10         8        36.660833\n",
       "           9        38.823540\n",
       "           10       43.620400\n",
       "           11       33.163676\n",
       "           12       55.341312\n",
       "Length: 84, dtype: float64"
      ]
     },
     "execution_count": 56,
     "metadata": {},
     "output_type": "execute_result"
    }
   ],
   "source": [
    "revenue = orders.groupby(['month'])['Revenue'].sum()\n",
    "roi = (revenue - total_ad_costs) / total_ad_costs\n",
    "roi"
   ]
  },
  {
   "cell_type": "code",
   "execution_count": 57,
   "metadata": {},
   "outputs": [
    {
     "data": {
      "image/png": "[encoded data removed]",
      "text/plain": [
       "<Figure size 936x648 with 2 Axes>"
      ]
     },
     "metadata": {
      "needs_background": "light"
     },
     "output_type": "display_data"
    }
   ],
   "source": [
    "pivot_roi = roi.reset_index().pivot_table(index='Source Id', columns='month', values = 0)\n",
    "\n",
    "plt.figure(figsize=(13, 9))\n",
    "sns.heatmap(pivot_roi, cmap='coolwarm', annot=True, fmt=\".2f\", cbar=True)\n",
    "plt.title('Heatmap of ROI by Source Id and Month')\n",
    "plt.xlabel('Month')\n",
    "plt.ylabel('Source Id')\n",
    "plt.show()"
   ]
  },
  {
   "cell_type": "markdown",
   "metadata": {},
   "source": [
    "It is shown on heatmap above that source id number 9 and 10 have the highest ROI (return of investment), while the lowest one is source id number 3. It is also not to be seen any significant difference of ROI based on the period of time."
   ]
  },
  {
   "cell_type": "markdown",
   "metadata": {},
   "source": [
    "## Conclusion\n",
    "\n",
    "After calculating LTV (lifetime value), CAC (customer acquisition cost), and ROI (return of investment) of each source Id , source Id number 1 is the recommended platform for Y.Afisha store, considering it is one of the platform that has the highest LTV and the lowest CAC compare to the other platform. Meanwhile for the ROI, Source Id number 1 does not reach the highest value yet it is not at the bottom position also, as it is in the middle position approximately."
   ]
  }
 ],
 "metadata": {
  "kernelspec": {
   "display_name": "Python 3 (ipykernel)",
   "language": "python",
   "name": "python3"
  },
  "language_info": {
   "codemirror_mode": {
    "name": "ipython",
    "version": 3
   },
   "file_extension": ".py",
   "mimetype": "text/x-python",
   "name": "python",
   "nbconvert_exporter": "python",
   "pygments_lexer": "ipython3",
   "version": "3.9.5"
  },
  "toc": {
   "base_numbering": 1,
   "nav_menu": {},
   "number_sections": true,
   "sideBar": true,
   "skip_h1_title": true,
   "title_cell": "Table of Contents",
   "title_sidebar": "Contents",
   "toc_cell": false,
   "toc_position": {
    "height": "calc(100% - 180px)",
    "left": "10px",
    "top": "150px",
    "width": "292.475px"
   },
   "toc_section_display": true,
   "toc_window_display": true
  }
 },
 "nbformat": 4,
 "nbformat_minor": 2
}
